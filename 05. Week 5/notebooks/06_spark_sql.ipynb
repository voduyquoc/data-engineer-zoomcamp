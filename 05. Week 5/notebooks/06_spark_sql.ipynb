{
 "cells": [
  {
   "cell_type": "code",
   "execution_count": 1,
   "id": "aa59ae37",
   "metadata": {},
   "outputs": [],
   "source": [
    "import pyspark\n",
    "from pyspark.sql import SparkSession\n",
    "import pandas as pd\n",
    "from pyspark.sql import types \n",
    "from pyspark.sql import functions as F"
   ]
  },
  {
   "cell_type": "code",
   "execution_count": 2,
   "id": "50396aaa",
   "metadata": {},
   "outputs": [
    {
     "name": "stderr",
     "output_type": "stream",
     "text": [
      "Setting default log level to \"WARN\".\n",
      "To adjust logging level use sc.setLogLevel(newLevel). For SparkR, use setLogLevel(newLevel).\n",
      "24/02/21 22:13:41 WARN NativeCodeLoader: Unable to load native-hadoop library for your platform... using builtin-java classes where applicable\n",
      "24/02/21 22:13:43 WARN Utils: Service 'SparkUI' could not bind on port 4040. Attempting port 4041.\n"
     ]
    }
   ],
   "source": [
    "spark = SparkSession.builder \\\n",
    "    .master(\"local[*]\") \\\n",
    "    .appName('test') \\\n",
    "    .getOrCreate()"
   ]
  },
  {
   "cell_type": "code",
   "execution_count": 3,
   "id": "dd67ac49",
   "metadata": {},
   "outputs": [
    {
     "name": "stderr",
     "output_type": "stream",
     "text": [
      "                                                                                \r"
     ]
    }
   ],
   "source": [
    "df_green = spark.read.parquet('data/pq/green/*/*/')"
   ]
  },
  {
   "cell_type": "code",
   "execution_count": 4,
   "id": "9f90bfc1",
   "metadata": {},
   "outputs": [
    {
     "name": "stderr",
     "output_type": "stream",
     "text": [
      "\r",
      "[Stage 1:>                                                          (0 + 1) / 1]\r",
      "\r",
      "                                                                                \r"
     ]
    },
    {
     "name": "stdout",
     "output_type": "stream",
     "text": [
      "+--------+--------------------+---------------------+------------------+----------+------------+------------+---------------+-------------+-----------+-----+-------+----------+------------+---------+---------------------+------------+------------+---------+--------------------+\n",
      "|VendorID|lpep_pickup_datetime|lpep_dropoff_datetime|store_and_fwd_flag|RatecodeID|PULocationID|DOLocationID|passenger_count|trip_distance|fare_amount|extra|mta_tax|tip_amount|tolls_amount|ehail_fee|improvement_surcharge|total_amount|payment_type|trip_type|congestion_surcharge|\n",
      "+--------+--------------------+---------------------+------------------+----------+------------+------------+---------------+-------------+-----------+-----+-------+----------+------------+---------+---------------------+------------+------------+---------+--------------------+\n",
      "|       2| 2019-01-27 18:07:53|  2019-01-27 18:20:54|                 N|         1|          82|         160|              1|         2.91|       11.5|  0.0|    0.5|       0.0|         0.0|     null|                  0.3|        12.3|           2|        1|                null|\n",
      "|       2| 2019-01-17 07:38:57|  2019-01-17 07:46:47|                 N|         1|          41|          74|              1|         1.08|        7.0|  0.0|    0.5|       0.0|         0.0|     null|                  0.3|         7.8|           2|        1|                null|\n",
      "|       2| 2019-01-30 00:40:05|  2019-01-30 00:45:53|                 N|         1|          82|         129|              1|         1.24|        6.5|  0.5|    0.5|       0.0|         0.0|     null|                  0.3|         7.8|           2|        1|                 0.0|\n",
      "|       2| 2019-01-29 18:59:48|  2019-01-29 19:10:56|                 N|         1|         130|          10|              1|          2.5|       11.0|  1.0|    0.5|      3.84|         0.0|     null|                  0.3|       16.64|           1|        1|                 0.0|\n",
      "|       2| 2019-01-11 11:56:18|  2019-01-11 12:37:23|                 N|         1|         119|         226|              1|         8.72|       33.0|  0.0|    0.5|       0.0|        5.76|     null|                  0.3|       39.56|           1|        1|                null|\n",
      "|       2| 2019-01-22 13:00:15|  2019-01-22 13:07:14|                 N|         1|          75|         151|              1|         1.58|        7.5|  0.0|    0.5|      2.49|         0.0|     null|                  0.3|       10.79|           1|        1|                null|\n",
      "|       2| 2019-01-19 23:14:34|  2019-01-19 23:19:17|                 N|         1|          41|          42|              1|         0.82|        5.0|  0.5|    0.5|       0.0|         0.0|     null|                  0.3|         6.3|           2|        1|                null|\n",
      "|       2| 2019-01-22 10:48:42|  2019-01-22 11:03:54|                 N|         1|         183|          81|              1|         3.26|       13.5|  0.0|    0.5|       0.0|         0.0|     null|                  0.3|        14.3|           1|        1|                null|\n",
      "|       2| 2019-01-15 16:34:38|  2019-01-15 16:54:31|                 N|         1|          72|          61|              1|         2.57|       14.5|  1.0|    0.5|       0.0|         0.0|     null|                  0.3|        16.3|           1|        1|                null|\n",
      "|       1| 2019-01-31 16:24:12|  2019-01-31 16:29:21|                 N|         1|          75|         236|              1|          0.8|        5.5|  1.0|    0.5|      1.45|         0.0|     null|                  0.3|        8.75|           1|        1|                 0.0|\n",
      "|       2| 2019-01-09 19:00:16|  2019-01-09 19:11:19|                 N|         1|         260|           7|              1|         2.02|        9.5|  1.0|    0.5|       0.0|         0.0|     null|                  0.3|        11.3|           2|        1|                null|\n",
      "|       2| 2019-01-29 20:48:03|  2019-01-29 21:40:24|                 N|         1|         145|         196|              1|          9.0|       38.5|  0.5|    0.5|       5.0|         0.0|     null|                  0.3|        44.8|           1|        1|                 0.0|\n",
      "|       2| 2019-01-24 08:10:55|  2019-01-24 08:25:50|                 N|         1|          74|         236|              1|         1.74|       10.5|  0.0|    0.5|       1.5|         0.0|     null|                  0.3|        12.8|           1|        1|                null|\n",
      "|       2| 2019-01-13 04:03:31|  2019-01-13 04:09:31|                 N|         1|          80|         157|              1|         1.94|        7.5|  0.5|    0.5|       0.0|         0.0|     null|                  0.3|         8.8|           2|        1|                null|\n",
      "|       2| 2019-01-26 09:03:30|  2019-01-26 09:18:37|                 N|         1|         129|         145|              1|         3.49|       13.5|  0.0|    0.5|      2.86|         0.0|     null|                  0.3|       17.16|           1|        1|                null|\n",
      "|       2| 2019-01-06 21:04:20|  2019-01-06 21:09:13|                 N|         1|           7|         226|              1|         0.89|        5.5|  0.5|    0.5|      1.36|         0.0|     null|                  0.3|        8.16|           1|        1|                null|\n",
      "|       2| 2019-01-25 17:23:13|  2019-01-25 17:38:23|                 N|         1|         244|         238|              1|         4.78|       17.0|  1.0|    0.5|      3.76|         0.0|     null|                  0.3|       22.56|           1|        1|                null|\n",
      "|       2| 2019-01-19 23:10:59|  2019-01-19 23:22:03|                 N|         1|         130|          10|              1|         2.69|       10.5|  0.5|    0.5|       0.0|         0.0|     null|                  0.3|        11.8|           1|        1|                null|\n",
      "|       2| 2019-01-22 11:26:57|  2019-01-22 11:49:16|                 N|         1|         174|         247|              5|         3.88|       17.0|  0.0|    0.5|       0.0|         0.0|     null|                  0.3|        17.8|           1|        1|                null|\n",
      "|       2| 2019-01-26 04:23:58|  2019-01-26 04:27:31|                 N|         1|         181|         228|              1|         0.58|        4.5|  0.5|    0.5|      1.16|         0.0|     null|                  0.3|        6.96|           1|        1|                null|\n",
      "+--------+--------------------+---------------------+------------------+----------+------------+------------+---------------+-------------+-----------+-----+-------+----------+------------+---------+---------------------+------------+------------+---------+--------------------+\n",
      "only showing top 20 rows\n",
      "\n"
     ]
    }
   ],
   "source": [
    "df_green.show()"
   ]
  },
  {
   "cell_type": "code",
   "execution_count": 5,
   "id": "0bf8b9b3",
   "metadata": {},
   "outputs": [
    {
     "name": "stdout",
     "output_type": "stream",
     "text": [
      "root\n",
      " |-- VendorID: integer (nullable = true)\n",
      " |-- lpep_pickup_datetime: timestamp (nullable = true)\n",
      " |-- lpep_dropoff_datetime: timestamp (nullable = true)\n",
      " |-- store_and_fwd_flag: string (nullable = true)\n",
      " |-- RatecodeID: integer (nullable = true)\n",
      " |-- PULocationID: integer (nullable = true)\n",
      " |-- DOLocationID: integer (nullable = true)\n",
      " |-- passenger_count: integer (nullable = true)\n",
      " |-- trip_distance: double (nullable = true)\n",
      " |-- fare_amount: double (nullable = true)\n",
      " |-- extra: double (nullable = true)\n",
      " |-- mta_tax: double (nullable = true)\n",
      " |-- tip_amount: double (nullable = true)\n",
      " |-- tolls_amount: double (nullable = true)\n",
      " |-- ehail_fee: double (nullable = true)\n",
      " |-- improvement_surcharge: double (nullable = true)\n",
      " |-- total_amount: double (nullable = true)\n",
      " |-- payment_type: integer (nullable = true)\n",
      " |-- trip_type: integer (nullable = true)\n",
      " |-- congestion_surcharge: double (nullable = true)\n",
      "\n"
     ]
    }
   ],
   "source": [
    "df_green.printSchema()"
   ]
  },
  {
   "cell_type": "code",
   "execution_count": 6,
   "id": "fc7abd20",
   "metadata": {},
   "outputs": [],
   "source": [
    "df_yellow = spark.read.parquet('data/pq/yellow/*/*/')"
   ]
  },
  {
   "cell_type": "code",
   "execution_count": 7,
   "id": "79a8ac9c",
   "metadata": {},
   "outputs": [
    {
     "name": "stdout",
     "output_type": "stream",
     "text": [
      "root\n",
      " |-- VendorID: integer (nullable = true)\n",
      " |-- tpep_pickup_datetime: timestamp (nullable = true)\n",
      " |-- tpep_dropoff_datetime: timestamp (nullable = true)\n",
      " |-- passenger_count: integer (nullable = true)\n",
      " |-- trip_distance: double (nullable = true)\n",
      " |-- RatecodeID: integer (nullable = true)\n",
      " |-- store_and_fwd_flag: string (nullable = true)\n",
      " |-- PULocationID: integer (nullable = true)\n",
      " |-- DOLocationID: integer (nullable = true)\n",
      " |-- payment_type: integer (nullable = true)\n",
      " |-- fare_amount: double (nullable = true)\n",
      " |-- extra: double (nullable = true)\n",
      " |-- mta_tax: double (nullable = true)\n",
      " |-- tip_amount: double (nullable = true)\n",
      " |-- tolls_amount: double (nullable = true)\n",
      " |-- improvement_surcharge: double (nullable = true)\n",
      " |-- total_amount: double (nullable = true)\n",
      " |-- congestion_surcharge: double (nullable = true)\n",
      "\n"
     ]
    }
   ],
   "source": [
    "df_yellow.printSchema()"
   ]
  },
  {
   "cell_type": "code",
   "execution_count": 8,
   "id": "5dacae00",
   "metadata": {},
   "outputs": [
    {
     "data": {
      "text/plain": [
       "{'DOLocationID',\n",
       " 'PULocationID',\n",
       " 'RatecodeID',\n",
       " 'VendorID',\n",
       " 'congestion_surcharge',\n",
       " 'extra',\n",
       " 'fare_amount',\n",
       " 'improvement_surcharge',\n",
       " 'mta_tax',\n",
       " 'passenger_count',\n",
       " 'payment_type',\n",
       " 'store_and_fwd_flag',\n",
       " 'tip_amount',\n",
       " 'tolls_amount',\n",
       " 'total_amount',\n",
       " 'trip_distance'}"
      ]
     },
     "execution_count": 8,
     "metadata": {},
     "output_type": "execute_result"
    }
   ],
   "source": [
    "set(df_green.columns) & set(df_yellow.columns)"
   ]
  },
  {
   "cell_type": "code",
   "execution_count": 9,
   "id": "ed3f3a5c",
   "metadata": {},
   "outputs": [],
   "source": [
    "df_green = df_green \\\n",
    "    .withColumnRenamed('lpep_pickup_datetime','pickup_datetime') \\\n",
    "    .withColumnRenamed('lpep_dropoff_datetime','dropoff_datetime') "
   ]
  },
  {
   "cell_type": "code",
   "execution_count": 10,
   "id": "415771dc",
   "metadata": {},
   "outputs": [
    {
     "name": "stdout",
     "output_type": "stream",
     "text": [
      "root\n",
      " |-- VendorID: integer (nullable = true)\n",
      " |-- pickup_datetime: timestamp (nullable = true)\n",
      " |-- dropoff_datetime: timestamp (nullable = true)\n",
      " |-- store_and_fwd_flag: string (nullable = true)\n",
      " |-- RatecodeID: integer (nullable = true)\n",
      " |-- PULocationID: integer (nullable = true)\n",
      " |-- DOLocationID: integer (nullable = true)\n",
      " |-- passenger_count: integer (nullable = true)\n",
      " |-- trip_distance: double (nullable = true)\n",
      " |-- fare_amount: double (nullable = true)\n",
      " |-- extra: double (nullable = true)\n",
      " |-- mta_tax: double (nullable = true)\n",
      " |-- tip_amount: double (nullable = true)\n",
      " |-- tolls_amount: double (nullable = true)\n",
      " |-- ehail_fee: double (nullable = true)\n",
      " |-- improvement_surcharge: double (nullable = true)\n",
      " |-- total_amount: double (nullable = true)\n",
      " |-- payment_type: integer (nullable = true)\n",
      " |-- trip_type: integer (nullable = true)\n",
      " |-- congestion_surcharge: double (nullable = true)\n",
      "\n"
     ]
    }
   ],
   "source": [
    "df_green.printSchema()"
   ]
  },
  {
   "cell_type": "code",
   "execution_count": 11,
   "id": "811f3427",
   "metadata": {},
   "outputs": [],
   "source": [
    "df_yellow = df_yellow \\\n",
    "    .withColumnRenamed('tpep_pickup_datetime', 'pickup_datetime') \\\n",
    "    .withColumnRenamed('tpep_dropoff_datetime', 'dropoff_datetime')"
   ]
  },
  {
   "cell_type": "code",
   "execution_count": 12,
   "id": "6e3a23cb",
   "metadata": {},
   "outputs": [
    {
     "name": "stdout",
     "output_type": "stream",
     "text": [
      "root\n",
      " |-- VendorID: integer (nullable = true)\n",
      " |-- pickup_datetime: timestamp (nullable = true)\n",
      " |-- dropoff_datetime: timestamp (nullable = true)\n",
      " |-- passenger_count: integer (nullable = true)\n",
      " |-- trip_distance: double (nullable = true)\n",
      " |-- RatecodeID: integer (nullable = true)\n",
      " |-- store_and_fwd_flag: string (nullable = true)\n",
      " |-- PULocationID: integer (nullable = true)\n",
      " |-- DOLocationID: integer (nullable = true)\n",
      " |-- payment_type: integer (nullable = true)\n",
      " |-- fare_amount: double (nullable = true)\n",
      " |-- extra: double (nullable = true)\n",
      " |-- mta_tax: double (nullable = true)\n",
      " |-- tip_amount: double (nullable = true)\n",
      " |-- tolls_amount: double (nullable = true)\n",
      " |-- improvement_surcharge: double (nullable = true)\n",
      " |-- total_amount: double (nullable = true)\n",
      " |-- congestion_surcharge: double (nullable = true)\n",
      "\n"
     ]
    }
   ],
   "source": [
    "df_yellow.printSchema()"
   ]
  },
  {
   "cell_type": "code",
   "execution_count": 13,
   "id": "1d7cb32f",
   "metadata": {},
   "outputs": [
    {
     "data": {
      "text/plain": [
       "['VendorID',\n",
       " 'pickup_datetime',\n",
       " 'dropoff_datetime',\n",
       " 'store_and_fwd_flag',\n",
       " 'RatecodeID',\n",
       " 'PULocationID',\n",
       " 'DOLocationID',\n",
       " 'passenger_count',\n",
       " 'trip_distance',\n",
       " 'fare_amount',\n",
       " 'extra',\n",
       " 'mta_tax',\n",
       " 'tip_amount',\n",
       " 'tolls_amount',\n",
       " 'ehail_fee',\n",
       " 'improvement_surcharge',\n",
       " 'total_amount',\n",
       " 'payment_type',\n",
       " 'trip_type',\n",
       " 'congestion_surcharge']"
      ]
     },
     "execution_count": 13,
     "metadata": {},
     "output_type": "execute_result"
    }
   ],
   "source": [
    "df_green.columns"
   ]
  },
  {
   "cell_type": "code",
   "execution_count": 14,
   "id": "16eb7bc8",
   "metadata": {},
   "outputs": [
    {
     "data": {
      "text/plain": [
       "['VendorID',\n",
       " 'pickup_datetime',\n",
       " 'dropoff_datetime',\n",
       " 'passenger_count',\n",
       " 'trip_distance',\n",
       " 'RatecodeID',\n",
       " 'store_and_fwd_flag',\n",
       " 'PULocationID',\n",
       " 'DOLocationID',\n",
       " 'payment_type',\n",
       " 'fare_amount',\n",
       " 'extra',\n",
       " 'mta_tax',\n",
       " 'tip_amount',\n",
       " 'tolls_amount',\n",
       " 'improvement_surcharge',\n",
       " 'total_amount',\n",
       " 'congestion_surcharge']"
      ]
     },
     "execution_count": 14,
     "metadata": {},
     "output_type": "execute_result"
    }
   ],
   "source": [
    "df_yellow.columns"
   ]
  },
  {
   "cell_type": "code",
   "execution_count": 15,
   "id": "9465673b",
   "metadata": {},
   "outputs": [],
   "source": [
    "# Go through cols and compare so that the list order is preserved\n",
    "common_columns = []\n",
    "\n",
    "yellow_columns = set(df_yellow.columns)\n",
    "\n",
    "for col in df_green.columns:\n",
    "    if col in yellow_columns:\n",
    "        common_columns.append(col)"
   ]
  },
  {
   "cell_type": "code",
   "execution_count": 16,
   "id": "8c46e66e",
   "metadata": {},
   "outputs": [
    {
     "data": {
      "text/plain": [
       "['VendorID',\n",
       " 'pickup_datetime',\n",
       " 'dropoff_datetime',\n",
       " 'store_and_fwd_flag',\n",
       " 'RatecodeID',\n",
       " 'PULocationID',\n",
       " 'DOLocationID',\n",
       " 'passenger_count',\n",
       " 'trip_distance',\n",
       " 'fare_amount',\n",
       " 'extra',\n",
       " 'mta_tax',\n",
       " 'tip_amount',\n",
       " 'tolls_amount',\n",
       " 'improvement_surcharge',\n",
       " 'total_amount',\n",
       " 'payment_type',\n",
       " 'congestion_surcharge']"
      ]
     },
     "execution_count": 16,
     "metadata": {},
     "output_type": "execute_result"
    }
   ],
   "source": [
    "common_columns"
   ]
  },
  {
   "cell_type": "code",
   "execution_count": 17,
   "id": "1b2c6da2",
   "metadata": {},
   "outputs": [],
   "source": [
    "# F.lit (literal) is used to add a new column to the dataframe\n",
    "\n",
    "df_green_sel = df_green \\\n",
    "    .select(common_columns) \\\n",
    "    .withColumn('service_type', F.lit('green'))     "
   ]
  },
  {
   "cell_type": "code",
   "execution_count": 18,
   "id": "f27d10a3",
   "metadata": {},
   "outputs": [],
   "source": [
    "df_yellow_sel = df_yellow \\\n",
    "    .select(common_columns) \\\n",
    "    .withColumn('service_type', F.lit('yellow'))"
   ]
  },
  {
   "cell_type": "code",
   "execution_count": 19,
   "id": "2707f691",
   "metadata": {},
   "outputs": [],
   "source": [
    "df_trips_data = df_green_sel.unionAll(df_yellow_sel)"
   ]
  },
  {
   "cell_type": "code",
   "execution_count": 20,
   "id": "217a5377",
   "metadata": {},
   "outputs": [
    {
     "name": "stderr",
     "output_type": "stream",
     "text": [
      "[Stage 3:====================================================>    (32 + 3) / 35]\r"
     ]
    },
    {
     "name": "stdout",
     "output_type": "stream",
     "text": [
      "+------------+---------+\n",
      "|service_type|    count|\n",
      "+------------+---------+\n",
      "|       green|  7778101|\n",
      "|      yellow|109047518|\n",
      "+------------+---------+\n",
      "\n"
     ]
    },
    {
     "name": "stderr",
     "output_type": "stream",
     "text": [
      "\r",
      "                                                                                \r"
     ]
    }
   ],
   "source": [
    "df_trips_data.groupBy('service_type').count().show()"
   ]
  },
  {
   "cell_type": "code",
   "execution_count": 21,
   "id": "cdd860e8",
   "metadata": {},
   "outputs": [
    {
     "name": "stderr",
     "output_type": "stream",
     "text": [
      "/home/quocvo/spark/spark-3.4.2-bin-hadoop3/python/pyspark/sql/dataframe.py:330: FutureWarning: Deprecated in 2.0, use createOrReplaceTempView instead.\n",
      "  warnings.warn(\"Deprecated in 2.0, use createOrReplaceTempView instead.\", FutureWarning)\n"
     ]
    }
   ],
   "source": [
    "df_trips_data.registerTempTable('trips_data')"
   ]
  },
  {
   "cell_type": "code",
   "execution_count": 22,
   "id": "44a29b70",
   "metadata": {},
   "outputs": [
    {
     "name": "stdout",
     "output_type": "stream",
     "text": [
      "+--------+-------------------+-------------------+------------------+----------+------------+------------+---------------+-------------+-----------+-----+-------+----------+------------+---------------------+------------+------------+--------------------+------------+\n",
      "|VendorID|    pickup_datetime|   dropoff_datetime|store_and_fwd_flag|RatecodeID|PULocationID|DOLocationID|passenger_count|trip_distance|fare_amount|extra|mta_tax|tip_amount|tolls_amount|improvement_surcharge|total_amount|payment_type|congestion_surcharge|service_type|\n",
      "+--------+-------------------+-------------------+------------------+----------+------------+------------+---------------+-------------+-----------+-----+-------+----------+------------+---------------------+------------+------------+--------------------+------------+\n",
      "|       2|2019-01-27 18:07:53|2019-01-27 18:20:54|                 N|         1|          82|         160|              1|         2.91|       11.5|  0.0|    0.5|       0.0|         0.0|                  0.3|        12.3|           2|                null|       green|\n",
      "|       2|2019-01-17 07:38:57|2019-01-17 07:46:47|                 N|         1|          41|          74|              1|         1.08|        7.0|  0.0|    0.5|       0.0|         0.0|                  0.3|         7.8|           2|                null|       green|\n",
      "|       2|2019-01-30 00:40:05|2019-01-30 00:45:53|                 N|         1|          82|         129|              1|         1.24|        6.5|  0.5|    0.5|       0.0|         0.0|                  0.3|         7.8|           2|                 0.0|       green|\n",
      "|       2|2019-01-29 18:59:48|2019-01-29 19:10:56|                 N|         1|         130|          10|              1|          2.5|       11.0|  1.0|    0.5|      3.84|         0.0|                  0.3|       16.64|           1|                 0.0|       green|\n",
      "|       2|2019-01-11 11:56:18|2019-01-11 12:37:23|                 N|         1|         119|         226|              1|         8.72|       33.0|  0.0|    0.5|       0.0|        5.76|                  0.3|       39.56|           1|                null|       green|\n",
      "+--------+-------------------+-------------------+------------------+----------+------------+------------+---------------+-------------+-----------+-----+-------+----------+------------+---------------------+------------+------------+--------------------+------------+\n",
      "\n"
     ]
    }
   ],
   "source": [
    "spark.sql(\"\"\"\n",
    "SELECT * from trips_data LIMIT 5;\n",
    "\"\"\").show()"
   ]
  },
  {
   "cell_type": "code",
   "execution_count": 23,
   "id": "768694e0",
   "metadata": {},
   "outputs": [
    {
     "name": "stderr",
     "output_type": "stream",
     "text": [
      "[Stage 7:=====================================================>   (33 + 2) / 35]\r"
     ]
    },
    {
     "name": "stdout",
     "output_type": "stream",
     "text": [
      "+------------+----------+\n",
      "|service_type|trip_count|\n",
      "+------------+----------+\n",
      "|       green|   7778101|\n",
      "|      yellow| 109047518|\n",
      "+------------+----------+\n",
      "\n"
     ]
    },
    {
     "name": "stderr",
     "output_type": "stream",
     "text": [
      "\r",
      "                                                                                \r"
     ]
    }
   ],
   "source": [
    "spark.sql(\"\"\"\n",
    "SELECT \n",
    "    service_type,\n",
    "    COUNT(*) as trip_count\n",
    "FROM\n",
    "    trips_data\n",
    "GROUP BY\n",
    "    service_type\n",
    "\"\"\").show()"
   ]
  },
  {
   "cell_type": "code",
   "execution_count": 24,
   "id": "328aaa0b",
   "metadata": {},
   "outputs": [],
   "source": [
    "df_result = spark.sql(\"\"\"\n",
    "SELECT \n",
    "    -- Revenue grouping \n",
    "    PULocationID AS revenue_zone,\n",
    "    date_trunc('month', pickup_datetime) AS revenue_month, \n",
    "    service_type, \n",
    "\n",
    "    -- Revenue calculation \n",
    "    SUM(fare_amount) AS revenue_monthly_fare,\n",
    "    SUM(extra) AS revenue_monthly_extra,\n",
    "    SUM(mta_tax) AS revenue_monthly_mta_tax,\n",
    "    SUM(tip_amount) AS revenue_monthly_tip_amount,\n",
    "    SUM(tolls_amount) AS revenue_monthly_tolls_amount,\n",
    "    SUM(improvement_surcharge) AS revenue_monthly_improvement_surcharge,\n",
    "    SUM(total_amount) AS revenue_monthly_total_amount,\n",
    "    SUM(congestion_surcharge) AS revenue_monthly_congestion_surcharge,\n",
    "\n",
    "    -- Additional calculations\n",
    "    AVG(passenger_count) AS avg_montly_passenger_count,\n",
    "    AVG(trip_distance) AS avg_montly_trip_distance\n",
    "FROM\n",
    "    trips_data\n",
    "GROUP BY\n",
    "    1, 2, 3\n",
    "\"\"\")"
   ]
  },
  {
   "cell_type": "code",
   "execution_count": 25,
   "id": "2b6dcf08",
   "metadata": {},
   "outputs": [
    {
     "name": "stderr",
     "output_type": "stream",
     "text": [
      "[Stage 10:======================================================> (34 + 1) / 35]\r"
     ]
    },
    {
     "name": "stdout",
     "output_type": "stream",
     "text": [
      "+------------+-------------------+------------+--------------------+---------------------+-----------------------+--------------------------+----------------------------+-------------------------------------+----------------------------+------------------------------------+--------------------------+------------------------+\n",
      "|revenue_zone|      revenue_month|service_type|revenue_monthly_fare|revenue_monthly_extra|revenue_monthly_mta_tax|revenue_monthly_tip_amount|revenue_monthly_tolls_amount|revenue_monthly_improvement_surcharge|revenue_monthly_total_amount|revenue_monthly_congestion_surcharge|avg_montly_passenger_count|avg_montly_trip_distance|\n",
      "+------------+-------------------+------------+--------------------+---------------------+-----------------------+--------------------------+----------------------------+-------------------------------------+----------------------------+------------------------------------+--------------------------+------------------------+\n",
      "|         169|2019-01-01 00:00:00|       green|            23350.36|                187.0|                  571.5|                    126.85|           720.7999999999992|                    289.2000000000052|          25260.409999999614|                                 0.0|         1.268032786885246|       5.133778688524595|\n",
      "|         204|2019-01-01 00:00:00|       green|               153.5|                  0.5|                    1.5|                       0.0|                       23.04|                   0.8999999999999999|                      179.44|                                 0.0|        2.6666666666666665|      17.966666666666665|\n",
      "|         198|2019-03-01 00:00:00|       green|  10830.160000000002|                78.25|                  243.5|                    152.99|          337.77999999999975|                   114.59999999999927|          11795.829999999958|                                16.5|        1.4277227722772277|       5.547603960396041|\n",
      "|         191|2019-02-01 00:00:00|       green|  28135.690000000013|                111.0|                  479.5|                       4.0|           900.9799999999989|                     177.000000000001|          29813.669999999776|                                 5.5|         1.214430894308943|       9.141361788617878|\n",
      "|         149|2019-02-01 00:00:00|       green|            20058.18|                169.5|                  446.5|        131.79000000000002|           588.2399999999993|                   202.80000000000197|          21614.109999999735|                                8.25|        1.3542354235423542|       6.031859185918591|\n",
      "|         208|2019-02-01 00:00:00|       green|  14935.670000000013|                 92.0|                  312.5|                    113.83|           606.9599999999994|                    132.2999999999993|          16244.409999999894|                               41.25|         1.260806916426513|        6.23345821325649|\n",
      "|          90|2019-02-01 00:00:00|       green|               184.5|                  8.5|                   10.5|         36.05999999999999|                        5.76|                    6.299999999999998|                      301.62|                                50.0|        1.0476190476190477|      1.6609523809523807|\n",
      "|         233|2019-02-01 00:00:00|       green|               188.0|                  4.5|                    6.5|                     21.29|                        5.76|                    3.899999999999999|          262.45000000000005|                                32.5|                       1.0|      3.4507692307692315|\n",
      "|           9|2019-04-01 00:00:00|       green|  3108.5700000000006|                 38.0|                   93.5|                      4.75|                       29.06|                   43.199999999999946|          3317.0800000000077|                                 0.0|         1.253968253968254|       4.415291005291007|\n",
      "|          85|2019-01-01 00:00:00|       green|  24184.489999999983|                208.5|                  582.0|        128.02999999999997|           465.9799999999997|                     283.500000000005|           25892.69999999962|                                 0.0|        1.3422594142259414|      5.2325941422594076|\n",
      "|         151|2019-01-01 00:00:00|       green|                10.0|                  0.5|                    0.5|                      3.39|                         0.0|                                  0.3|                       14.69|                                null|                       1.0|                    2.01|\n",
      "|          70|2019-03-01 00:00:00|       green|   8678.050000000001|               120.25|                  258.5|        151.06999999999996|          298.79999999999984|                    134.9999999999994|           9667.119999999988|                                16.5|        1.3014440433212997|       3.973122743682312|\n",
      "|         115|2019-03-01 00:00:00|       green|  2499.0099999999998|                 10.5|                   24.5|                      17.6|          450.25999999999976|                    13.50000000000001|           3027.520000000001|                                8.25|        1.0961538461538463|       15.73461538461539|\n",
      "|         100|2019-02-01 00:00:00|       green|               766.5|                 28.0|                   33.5|        106.81000000000002|                        5.76|                   20.100000000000026|          1125.6699999999992|                               165.0|        1.0746268656716418|      2.4411940298507453|\n",
      "|         182|2019-04-01 00:00:00|       green|  19122.120000000003|               178.75|                  450.0|        312.59999999999985|           517.2200000000003|                   246.30000000000362|          20893.339999999713|                               79.75|         1.360232945091514|      4.2106988352745445|\n",
      "|         212|2019-04-01 00:00:00|       green|            14223.97|                370.0|                  460.0|         455.2099999999997|          293.76000000000016|                   260.70000000000414|          16100.539999999808|                                44.0|        1.3192883895131087|       3.527902621722843|\n",
      "|          95|2019-01-01 00:00:00|       green|  201596.13000000003|               6837.3|                 8490.0|         15596.04999999999|          3191.5000000000387|                   4913.4000000015185|          240734.52999995174|                                 0.0|         1.328923596946209|        2.82700099073373|\n",
      "|         249|2019-01-01 00:00:00|       green|                76.0|                  3.5|                    5.5|                     13.26|                         0.0|                   3.2999999999999994|          101.55999999999999|                                 0.0|                       1.0|       1.400909090909091|\n",
      "|          63|2019-03-01 00:00:00|       green|  12912.220000000003|                 49.5|                  237.0|                     51.43|          292.79999999999984|                    89.09999999999951|          13659.799999999947|                                 5.5|        1.1869918699186992|       7.056321138211381|\n",
      "|         176|2019-02-01 00:00:00|       green|  305.28999999999996|                  1.0|                    1.0|                      0.05|                       11.52|                                  0.3|                      319.16|                                 0.0|                      1.25|                  7.3575|\n",
      "+------------+-------------------+------------+--------------------+---------------------+-----------------------+--------------------------+----------------------------+-------------------------------------+----------------------------+------------------------------------+--------------------------+------------------------+\n",
      "only showing top 20 rows\n",
      "\n"
     ]
    },
    {
     "name": "stderr",
     "output_type": "stream",
     "text": [
      "\r",
      "                                                                                \r"
     ]
    }
   ],
   "source": [
    "df_result.show()"
   ]
  },
  {
   "cell_type": "code",
   "execution_count": 29,
   "id": "35ea83dd",
   "metadata": {},
   "outputs": [
    {
     "name": "stderr",
     "output_type": "stream",
     "text": [
      "                                                                                \r"
     ]
    }
   ],
   "source": [
    "df_result.write.parquet('data/report/revenue')"
   ]
  },
  {
   "cell_type": "code",
   "execution_count": 27,
   "id": "ccf4622e",
   "metadata": {},
   "outputs": [
    {
     "name": "stderr",
     "output_type": "stream",
     "text": [
      "                                                                                \r"
     ]
    }
   ],
   "source": [
    "df_result.coalesce(1).write.parquet('data/report/revenue', mode='overwrite')"
   ]
  },
  {
   "cell_type": "code",
   "execution_count": 30,
   "id": "4c00bbe4",
   "metadata": {},
   "outputs": [],
   "source": [
    "spark.stop()"
   ]
  },
  {
   "cell_type": "code",
   "execution_count": null,
   "id": "eb6a3e0d",
   "metadata": {},
   "outputs": [],
   "source": []
  }
 ],
 "metadata": {
  "kernelspec": {
   "display_name": "Python 3 (ipykernel)",
   "language": "python",
   "name": "python3"
  },
  "language_info": {
   "codemirror_mode": {
    "name": "ipython",
    "version": 3
   },
   "file_extension": ".py",
   "mimetype": "text/x-python",
   "name": "python",
   "nbconvert_exporter": "python",
   "pygments_lexer": "ipython3",
   "version": "3.11.5"
  }
 },
 "nbformat": 4,
 "nbformat_minor": 5
}
