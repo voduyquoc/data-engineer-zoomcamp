{
 "cells": [
  {
   "cell_type": "code",
   "execution_count": 1,
   "id": "a695dcd4",
   "metadata": {},
   "outputs": [],
   "source": [
    "import pyspark\n",
    "from pyspark.sql import SparkSession"
   ]
  },
  {
   "cell_type": "code",
   "execution_count": 2,
   "id": "e341f5e7",
   "metadata": {},
   "outputs": [
    {
     "name": "stderr",
     "output_type": "stream",
     "text": [
      "Setting default log level to \"WARN\".\n",
      "To adjust logging level use sc.setLogLevel(newLevel). For SparkR, use setLogLevel(newLevel).\n",
      "24/02/22 19:46:54 WARN NativeCodeLoader: Unable to load native-hadoop library for your platform... using builtin-java classes where applicable\n"
     ]
    }
   ],
   "source": [
    "spark = SparkSession.builder \\\n",
    "    .master(\"local[*]\") \\\n",
    "    .appName('test') \\\n",
    "    .getOrCreate()"
   ]
  },
  {
   "cell_type": "code",
   "execution_count": 3,
   "id": "196b6f6b",
   "metadata": {},
   "outputs": [
    {
     "name": "stderr",
     "output_type": "stream",
     "text": [
      "                                                                                \r"
     ]
    }
   ],
   "source": [
    "df_green = spark.read.parquet('data/pq/green/*/*')"
   ]
  },
  {
   "cell_type": "raw",
   "id": "86ebf94a",
   "metadata": {},
   "source": [
    "SELECT \n",
    "    date_trunc('hour', lpep_pickup_datetime) AS hour, \n",
    "    PULocationID AS zone,\n",
    "\n",
    "    SUM(total_amount) AS amount,\n",
    "    COUNT(1) AS number_records\n",
    "FROM\n",
    "    green\n",
    "WHERE\n",
    "    lpep_pickup_datetime >= '2020-01-01 00:00:00'\n",
    "GROUP BY\n",
    "    1, 2"
   ]
  },
  {
   "cell_type": "code",
   "execution_count": 5,
   "id": "d1533a5f",
   "metadata": {},
   "outputs": [],
   "source": [
    "rdd = df_green \\\n",
    "    .select('lpep_pickup_datetime', 'PULocationID', 'total_amount') \\\n",
    "    .rdd"
   ]
  },
  {
   "cell_type": "code",
   "execution_count": 6,
   "id": "77f53bb5",
   "metadata": {},
   "outputs": [
    {
     "name": "stderr",
     "output_type": "stream",
     "text": [
      "                                                                                \r"
     ]
    },
    {
     "data": {
      "text/plain": [
       "[Row(lpep_pickup_datetime=datetime.datetime(2019, 1, 27, 18, 7, 53), PULocationID=82, total_amount=12.3),\n",
       " Row(lpep_pickup_datetime=datetime.datetime(2019, 1, 17, 7, 38, 57), PULocationID=41, total_amount=7.8),\n",
       " Row(lpep_pickup_datetime=datetime.datetime(2019, 1, 30, 0, 40, 5), PULocationID=82, total_amount=7.8),\n",
       " Row(lpep_pickup_datetime=datetime.datetime(2019, 1, 29, 18, 59, 48), PULocationID=130, total_amount=16.64),\n",
       " Row(lpep_pickup_datetime=datetime.datetime(2019, 1, 11, 11, 56, 18), PULocationID=119, total_amount=39.56)]"
      ]
     },
     "execution_count": 6,
     "metadata": {},
     "output_type": "execute_result"
    }
   ],
   "source": [
    "rdd.take(5)"
   ]
  },
  {
   "cell_type": "code",
   "execution_count": 7,
   "id": "b6a3d4d1",
   "metadata": {},
   "outputs": [],
   "source": [
    "from datetime import datetime"
   ]
  },
  {
   "cell_type": "code",
   "execution_count": 8,
   "id": "66fa6fb3",
   "metadata": {},
   "outputs": [],
   "source": [
    "start = datetime(year=2020, month=1, day=1)"
   ]
  },
  {
   "cell_type": "code",
   "execution_count": 9,
   "id": "b7db4db1",
   "metadata": {},
   "outputs": [
    {
     "name": "stderr",
     "output_type": "stream",
     "text": [
      "                                                                                \r"
     ]
    },
    {
     "data": {
      "text/plain": [
       "[Row(lpep_pickup_datetime=datetime.datetime(2020, 3, 7, 9, 24, 23), PULocationID=226, total_amount=6.8)]"
      ]
     },
     "execution_count": 9,
     "metadata": {},
     "output_type": "execute_result"
    }
   ],
   "source": [
    "rdd.filter(lambda row: row.lpep_pickup_datetime >= start).take(1)"
   ]
  },
  {
   "cell_type": "code",
   "execution_count": 10,
   "id": "6a104bc3",
   "metadata": {},
   "outputs": [],
   "source": [
    "start = datetime(year=2020, month=1, day=1)\n",
    "\n",
    "def filter_outliers(row):\n",
    "    return row.lpep_pickup_datetime >= start"
   ]
  },
  {
   "cell_type": "code",
   "execution_count": 11,
   "id": "1c49a49c",
   "metadata": {},
   "outputs": [
    {
     "name": "stderr",
     "output_type": "stream",
     "text": [
      "                                                                                \r"
     ]
    },
    {
     "data": {
      "text/plain": [
       "[Row(lpep_pickup_datetime=datetime.datetime(2020, 3, 7, 9, 24, 23), PULocationID=226, total_amount=6.8)]"
      ]
     },
     "execution_count": 11,
     "metadata": {},
     "output_type": "execute_result"
    }
   ],
   "source": [
    "rdd.filter(filter_outliers).take(1)"
   ]
  },
  {
   "cell_type": "code",
   "execution_count": 12,
   "id": "b09f029b",
   "metadata": {},
   "outputs": [],
   "source": [
    "rows = rdd.take(10)\n",
    "row = rows[0]"
   ]
  },
  {
   "cell_type": "code",
   "execution_count": 13,
   "id": "735beed1",
   "metadata": {},
   "outputs": [
    {
     "data": {
      "text/plain": [
       "datetime.datetime(2019, 1, 27, 18, 7, 53)"
      ]
     },
     "execution_count": 13,
     "metadata": {},
     "output_type": "execute_result"
    }
   ],
   "source": [
    "row.lpep_pickup_datetime"
   ]
  },
  {
   "cell_type": "code",
   "execution_count": 14,
   "id": "91e5c702",
   "metadata": {},
   "outputs": [
    {
     "data": {
      "text/plain": [
       "datetime.datetime(2019, 1, 27, 18, 0)"
      ]
     },
     "execution_count": 14,
     "metadata": {},
     "output_type": "execute_result"
    }
   ],
   "source": [
    "row.lpep_pickup_datetime.replace(minute=0, second=0, microsecond=0)"
   ]
  },
  {
   "cell_type": "code",
   "execution_count": 15,
   "id": "39b1d911",
   "metadata": {},
   "outputs": [
    {
     "data": {
      "text/plain": [
       "82"
      ]
     },
     "execution_count": 15,
     "metadata": {},
     "output_type": "execute_result"
    }
   ],
   "source": [
    "row.PULocationID"
   ]
  },
  {
   "cell_type": "code",
   "execution_count": 16,
   "id": "0fd4ca16",
   "metadata": {},
   "outputs": [],
   "source": [
    "def prepare_for_grouping(row): \n",
    "    hour = row.lpep_pickup_datetime.replace(minute=0, second=0, microsecond=0)\n",
    "    zone = row.PULocationID\n",
    "    key = (hour, zone)\n",
    "    \n",
    "    amount = row.total_amount\n",
    "    count = 1\n",
    "    value = (amount, count)\n",
    "\n",
    "    return (key, value)"
   ]
  },
  {
   "cell_type": "code",
   "execution_count": 18,
   "id": "38a4a21e",
   "metadata": {},
   "outputs": [
    {
     "name": "stderr",
     "output_type": "stream",
     "text": [
      "                                                                                \r"
     ]
    },
    {
     "data": {
      "text/plain": [
       "[((datetime.datetime(2020, 3, 7, 9, 0), 226), (6.8, 1)),\n",
       " ((datetime.datetime(2062, 8, 15, 0, 0), 7), (3.6, 1)),\n",
       " ((datetime.datetime(2020, 2, 15, 0, 0), 7), (9.8, 1)),\n",
       " ((datetime.datetime(2020, 1, 3, 9, 0), 226), (10.8, 1)),\n",
       " ((datetime.datetime(2020, 4, 22, 20, 0), 129), (9.75, 1)),\n",
       " ((datetime.datetime(2020, 1, 1, 1, 0), 129), (13.3, 1)),\n",
       " ((datetime.datetime(2020, 1, 3, 8, 0), 82), (12.3, 1)),\n",
       " ((datetime.datetime(2020, 1, 1, 0, 0), 129), (10.8, 1)),\n",
       " ((datetime.datetime(2020, 1, 1, 5, 0), 129), (11.8, 1)),\n",
       " ((datetime.datetime(2020, 1, 1, 3, 0), 226), (19.05, 1))]"
      ]
     },
     "execution_count": 18,
     "metadata": {},
     "output_type": "execute_result"
    }
   ],
   "source": [
    "rdd \\\n",
    "    .filter(filter_outliers) \\\n",
    "    .map(prepare_for_grouping) \\\n",
    "    .take(10)"
   ]
  },
  {
   "cell_type": "code",
   "execution_count": 19,
   "id": "307b60ce",
   "metadata": {},
   "outputs": [],
   "source": [
    "def calculate_revenue(left_value, right_value):\n",
    "    left_amount, left_count = left_value\n",
    "    right_amount, right_count = right_value\n",
    "    \n",
    "    output_amount = left_amount + right_amount\n",
    "    output_count = left_count + right_count\n",
    "    \n",
    "    return (output_amount, output_count)"
   ]
  },
  {
   "cell_type": "code",
   "execution_count": 20,
   "id": "2b397a26",
   "metadata": {},
   "outputs": [
    {
     "name": "stderr",
     "output_type": "stream",
     "text": [
      "                                                                                \r"
     ]
    },
    {
     "data": {
      "text/plain": [
       "[((datetime.datetime(2062, 8, 15, 0, 0), 7), (3.6, 1)),\n",
       " ((datetime.datetime(2020, 1, 3, 9, 0), 226), (108.33999999999999, 6)),\n",
       " ((datetime.datetime(2020, 1, 1, 1, 0), 129), (760.7699999999998, 48)),\n",
       " ((datetime.datetime(2020, 1, 1, 5, 0), 129), (320.8400000000001, 20)),\n",
       " ((datetime.datetime(2020, 1, 1, 4, 0), 129), (531.7900000000002, 43)),\n",
       " ((datetime.datetime(2020, 2, 14, 19, 0), 82), (1199.1199999999994, 73)),\n",
       " ((datetime.datetime(2020, 1, 24, 11, 0), 82), (292.5400000000001, 19)),\n",
       " ((datetime.datetime(2020, 2, 14, 19, 0), 260), (354.1700000000001, 28)),\n",
       " ((datetime.datetime(2020, 1, 20, 15, 0), 67), (79.5, 3)),\n",
       " ((datetime.datetime(2020, 1, 29, 19, 0), 166), (695.0099999999999, 45))]"
      ]
     },
     "execution_count": 20,
     "metadata": {},
     "output_type": "execute_result"
    }
   ],
   "source": [
    "rdd \\\n",
    "    .filter(filter_outliers) \\\n",
    "    .map(prepare_for_grouping) \\\n",
    "    .reduceByKey(calculate_revenue) \\\n",
    "    .take(10)"
   ]
  },
  {
   "cell_type": "code",
   "execution_count": 24,
   "id": "303c8f95",
   "metadata": {},
   "outputs": [],
   "source": [
    "def unwrap(row):\n",
    "    return (row[0][0], row[0][1], row[1][0], row[1][1])"
   ]
  },
  {
   "cell_type": "code",
   "execution_count": 28,
   "id": "3bf8bd6a",
   "metadata": {},
   "outputs": [
    {
     "name": "stderr",
     "output_type": "stream",
     "text": [
      "                                                                                \r"
     ]
    },
    {
     "name": "stdout",
     "output_type": "stream",
     "text": [
      "+-------------------+---+------------------+---+\n",
      "|                 _1| _2|                _3| _4|\n",
      "+-------------------+---+------------------+---+\n",
      "|2062-08-15 00:00:00|  7|               3.6|  1|\n",
      "|2020-01-03 09:00:00|226|108.33999999999999|  6|\n",
      "|2020-01-01 01:00:00|129| 760.7699999999998| 48|\n",
      "|2020-01-01 05:00:00|129| 320.8400000000001| 20|\n",
      "|2020-01-01 04:00:00|129| 531.7900000000002| 43|\n",
      "|2020-02-14 19:00:00| 82|1199.1199999999994| 73|\n",
      "|2020-01-24 11:00:00| 82| 292.5400000000001| 19|\n",
      "|2020-02-14 19:00:00|260| 354.1700000000001| 28|\n",
      "|2020-01-20 15:00:00| 67|              79.5|  3|\n",
      "|2020-01-29 19:00:00|166| 695.0099999999999| 45|\n",
      "|2020-01-15 11:00:00|179|              50.5|  5|\n",
      "|2020-01-28 17:00:00| 75| 1485.579999999998|101|\n",
      "|2020-01-22 14:00:00|152|154.92999999999998| 10|\n",
      "|2020-01-27 02:00:00|  7|             52.66|  4|\n",
      "|2020-01-16 14:00:00| 74| 895.1799999999994| 60|\n",
      "|2020-01-16 18:00:00| 66|385.56000000000006| 24|\n",
      "|2020-01-03 09:00:00| 61|            142.21|  9|\n",
      "|2020-01-24 07:00:00|225|169.42000000000002|  6|\n",
      "|2020-01-12 12:00:00| 82|            290.41| 14|\n",
      "|2020-01-13 19:00:00|223|213.83000000000004| 19|\n",
      "+-------------------+---+------------------+---+\n",
      "only showing top 20 rows\n",
      "\n"
     ]
    }
   ],
   "source": [
    "rdd \\\n",
    "    .filter(filter_outliers) \\\n",
    "    .map(prepare_for_grouping) \\\n",
    "    .reduceByKey(calculate_revenue) \\\n",
    "    .map(unwrap) \\\n",
    "    .toDF() \\\n",
    "    .show()"
   ]
  },
  {
   "cell_type": "code",
   "execution_count": 29,
   "id": "04dafbca",
   "metadata": {},
   "outputs": [],
   "source": [
    "from collections import namedtuple"
   ]
  },
  {
   "cell_type": "code",
   "execution_count": 30,
   "id": "ce0b68c9",
   "metadata": {},
   "outputs": [],
   "source": [
    "RevenueRow = namedtuple('RevenueRow', ['hour', 'zone', 'revenue', 'count'])"
   ]
  },
  {
   "cell_type": "code",
   "execution_count": 31,
   "id": "4d745a5e",
   "metadata": {},
   "outputs": [],
   "source": [
    "def unwrap(row):\n",
    "    return RevenueRow(\n",
    "        hour=row[0][0], \n",
    "        zone=row[0][1],\n",
    "        revenue=row[1][0],\n",
    "        count=row[1][1]\n",
    "    )"
   ]
  },
  {
   "cell_type": "code",
   "execution_count": 32,
   "id": "dfc362a6",
   "metadata": {},
   "outputs": [
    {
     "name": "stderr",
     "output_type": "stream",
     "text": [
      "                                                                                \r"
     ]
    }
   ],
   "source": [
    "df_result = rdd \\\n",
    "    .filter(filter_outliers) \\\n",
    "    .map(prepare_for_grouping) \\\n",
    "    .reduceByKey(calculate_revenue) \\\n",
    "    .map(unwrap) \\\n",
    "    .toDF()"
   ]
  },
  {
   "cell_type": "code",
   "execution_count": 33,
   "id": "171366b1",
   "metadata": {},
   "outputs": [
    {
     "data": {
      "text/plain": [
       "StructType([StructField('hour', TimestampType(), True), StructField('zone', LongType(), True), StructField('revenue', DoubleType(), True), StructField('count', LongType(), True)])"
      ]
     },
     "execution_count": 33,
     "metadata": {},
     "output_type": "execute_result"
    }
   ],
   "source": [
    "df_result.schema"
   ]
  },
  {
   "cell_type": "code",
   "execution_count": 34,
   "id": "b23df95c",
   "metadata": {},
   "outputs": [],
   "source": [
    "from pyspark.sql import types"
   ]
  },
  {
   "cell_type": "code",
   "execution_count": 35,
   "id": "a070f264",
   "metadata": {},
   "outputs": [],
   "source": [
    "result_schema = types.StructType([\n",
    "    types.StructField('hour', types.TimestampType(), True),\n",
    "    types.StructField('zone', types.IntegerType(), True),\n",
    "    types.StructField('revenue', types.DoubleType(), True),\n",
    "    types.StructField('count', types.IntegerType(), True)\n",
    "])"
   ]
  },
  {
   "cell_type": "code",
   "execution_count": 36,
   "id": "6fe0653f",
   "metadata": {},
   "outputs": [],
   "source": [
    "df_result = rdd \\\n",
    "    .filter(filter_outliers) \\\n",
    "    .map(prepare_for_grouping) \\\n",
    "    .reduceByKey(calculate_revenue) \\\n",
    "    .map(unwrap) \\\n",
    "    .toDF(result_schema) "
   ]
  },
  {
   "cell_type": "code",
   "execution_count": 37,
   "id": "395d654b",
   "metadata": {},
   "outputs": [
    {
     "data": {
      "text/plain": [
       "StructType([StructField('hour', TimestampType(), True), StructField('zone', IntegerType(), True), StructField('revenue', DoubleType(), True), StructField('count', IntegerType(), True)])"
      ]
     },
     "execution_count": 37,
     "metadata": {},
     "output_type": "execute_result"
    }
   ],
   "source": [
    "df_result.schema"
   ]
  },
  {
   "cell_type": "code",
   "execution_count": 38,
   "id": "44a335f8",
   "metadata": {},
   "outputs": [
    {
     "name": "stderr",
     "output_type": "stream",
     "text": [
      "[Stage 25:==============================================>           (4 + 1) / 5]\r"
     ]
    },
    {
     "name": "stdout",
     "output_type": "stream",
     "text": [
      "+-------------------+----+------------------+-----+\n",
      "|               hour|zone|           revenue|count|\n",
      "+-------------------+----+------------------+-----+\n",
      "|2062-08-15 00:00:00|   7|               3.6|    1|\n",
      "|2020-01-03 09:00:00| 226|108.33999999999999|    6|\n",
      "|2020-01-01 01:00:00| 129| 760.7699999999998|   48|\n",
      "|2020-01-01 05:00:00| 129| 320.8400000000001|   20|\n",
      "|2020-01-01 04:00:00| 129| 531.7900000000002|   43|\n",
      "|2020-02-14 19:00:00|  82|1199.1199999999994|   73|\n",
      "|2020-01-24 11:00:00|  82| 292.5400000000001|   19|\n",
      "|2020-02-14 19:00:00| 260| 354.1700000000001|   28|\n",
      "|2020-01-20 15:00:00|  67|              79.5|    3|\n",
      "|2020-01-29 19:00:00| 166| 695.0099999999999|   45|\n",
      "|2020-01-15 11:00:00| 179|              50.5|    5|\n",
      "|2020-01-28 17:00:00|  75| 1485.579999999998|  101|\n",
      "|2020-01-22 14:00:00| 152|154.92999999999998|   10|\n",
      "|2020-01-27 02:00:00|   7|             52.66|    4|\n",
      "|2020-01-16 14:00:00|  74| 895.1799999999994|   60|\n",
      "|2020-01-16 18:00:00|  66|385.56000000000006|   24|\n",
      "|2020-01-03 09:00:00|  61|            142.21|    9|\n",
      "|2020-01-24 07:00:00| 225|169.42000000000002|    6|\n",
      "|2020-01-12 12:00:00|  82|            290.41|   14|\n",
      "|2020-01-13 19:00:00| 223|213.83000000000004|   19|\n",
      "+-------------------+----+------------------+-----+\n",
      "only showing top 20 rows\n",
      "\n"
     ]
    },
    {
     "name": "stderr",
     "output_type": "stream",
     "text": [
      "\r",
      "                                                                                \r"
     ]
    }
   ],
   "source": [
    "df_result.show()"
   ]
  },
  {
   "cell_type": "code",
   "execution_count": 39,
   "id": "11335522",
   "metadata": {},
   "outputs": [
    {
     "name": "stderr",
     "output_type": "stream",
     "text": [
      "                                                                                \r"
     ]
    }
   ],
   "source": [
    "df_result.write.parquet('tmp/green-revenue')"
   ]
  },
  {
   "cell_type": "code",
   "execution_count": 40,
   "id": "2e556384",
   "metadata": {},
   "outputs": [
    {
     "name": "stdout",
     "output_type": "stream",
     "text": [
      "+--------+--------------------+---------------------+------------------+----------+------------+------------+---------------+-------------+-----------+-----+-------+----------+------------+---------+---------------------+------------+------------+---------+--------------------+\n",
      "|VendorID|lpep_pickup_datetime|lpep_dropoff_datetime|store_and_fwd_flag|RatecodeID|PULocationID|DOLocationID|passenger_count|trip_distance|fare_amount|extra|mta_tax|tip_amount|tolls_amount|ehail_fee|improvement_surcharge|total_amount|payment_type|trip_type|congestion_surcharge|\n",
      "+--------+--------------------+---------------------+------------------+----------+------------+------------+---------------+-------------+-----------+-----+-------+----------+------------+---------+---------------------+------------+------------+---------+--------------------+\n",
      "|       2| 2019-01-27 18:07:53|  2019-01-27 18:20:54|                 N|         1|          82|         160|              1|         2.91|       11.5|  0.0|    0.5|       0.0|         0.0|     null|                  0.3|        12.3|           2|        1|                null|\n",
      "|       2| 2019-01-17 07:38:57|  2019-01-17 07:46:47|                 N|         1|          41|          74|              1|         1.08|        7.0|  0.0|    0.5|       0.0|         0.0|     null|                  0.3|         7.8|           2|        1|                null|\n",
      "|       2| 2019-01-30 00:40:05|  2019-01-30 00:45:53|                 N|         1|          82|         129|              1|         1.24|        6.5|  0.5|    0.5|       0.0|         0.0|     null|                  0.3|         7.8|           2|        1|                 0.0|\n",
      "|       2| 2019-01-29 18:59:48|  2019-01-29 19:10:56|                 N|         1|         130|          10|              1|          2.5|       11.0|  1.0|    0.5|      3.84|         0.0|     null|                  0.3|       16.64|           1|        1|                 0.0|\n",
      "|       2| 2019-01-11 11:56:18|  2019-01-11 12:37:23|                 N|         1|         119|         226|              1|         8.72|       33.0|  0.0|    0.5|       0.0|        5.76|     null|                  0.3|       39.56|           1|        1|                null|\n",
      "|       2| 2019-01-22 13:00:15|  2019-01-22 13:07:14|                 N|         1|          75|         151|              1|         1.58|        7.5|  0.0|    0.5|      2.49|         0.0|     null|                  0.3|       10.79|           1|        1|                null|\n",
      "|       2| 2019-01-19 23:14:34|  2019-01-19 23:19:17|                 N|         1|          41|          42|              1|         0.82|        5.0|  0.5|    0.5|       0.0|         0.0|     null|                  0.3|         6.3|           2|        1|                null|\n",
      "|       2| 2019-01-22 10:48:42|  2019-01-22 11:03:54|                 N|         1|         183|          81|              1|         3.26|       13.5|  0.0|    0.5|       0.0|         0.0|     null|                  0.3|        14.3|           1|        1|                null|\n",
      "|       2| 2019-01-15 16:34:38|  2019-01-15 16:54:31|                 N|         1|          72|          61|              1|         2.57|       14.5|  1.0|    0.5|       0.0|         0.0|     null|                  0.3|        16.3|           1|        1|                null|\n",
      "|       1| 2019-01-31 16:24:12|  2019-01-31 16:29:21|                 N|         1|          75|         236|              1|          0.8|        5.5|  1.0|    0.5|      1.45|         0.0|     null|                  0.3|        8.75|           1|        1|                 0.0|\n",
      "|       2| 2019-01-09 19:00:16|  2019-01-09 19:11:19|                 N|         1|         260|           7|              1|         2.02|        9.5|  1.0|    0.5|       0.0|         0.0|     null|                  0.3|        11.3|           2|        1|                null|\n",
      "|       2| 2019-01-29 20:48:03|  2019-01-29 21:40:24|                 N|         1|         145|         196|              1|          9.0|       38.5|  0.5|    0.5|       5.0|         0.0|     null|                  0.3|        44.8|           1|        1|                 0.0|\n",
      "|       2| 2019-01-24 08:10:55|  2019-01-24 08:25:50|                 N|         1|          74|         236|              1|         1.74|       10.5|  0.0|    0.5|       1.5|         0.0|     null|                  0.3|        12.8|           1|        1|                null|\n",
      "|       2| 2019-01-13 04:03:31|  2019-01-13 04:09:31|                 N|         1|          80|         157|              1|         1.94|        7.5|  0.5|    0.5|       0.0|         0.0|     null|                  0.3|         8.8|           2|        1|                null|\n",
      "|       2| 2019-01-26 09:03:30|  2019-01-26 09:18:37|                 N|         1|         129|         145|              1|         3.49|       13.5|  0.0|    0.5|      2.86|         0.0|     null|                  0.3|       17.16|           1|        1|                null|\n",
      "|       2| 2019-01-06 21:04:20|  2019-01-06 21:09:13|                 N|         1|           7|         226|              1|         0.89|        5.5|  0.5|    0.5|      1.36|         0.0|     null|                  0.3|        8.16|           1|        1|                null|\n",
      "|       2| 2019-01-25 17:23:13|  2019-01-25 17:38:23|                 N|         1|         244|         238|              1|         4.78|       17.0|  1.0|    0.5|      3.76|         0.0|     null|                  0.3|       22.56|           1|        1|                null|\n",
      "|       2| 2019-01-19 23:10:59|  2019-01-19 23:22:03|                 N|         1|         130|          10|              1|         2.69|       10.5|  0.5|    0.5|       0.0|         0.0|     null|                  0.3|        11.8|           1|        1|                null|\n",
      "|       2| 2019-01-22 11:26:57|  2019-01-22 11:49:16|                 N|         1|         174|         247|              5|         3.88|       17.0|  0.0|    0.5|       0.0|         0.0|     null|                  0.3|        17.8|           1|        1|                null|\n",
      "|       2| 2019-01-26 04:23:58|  2019-01-26 04:27:31|                 N|         1|         181|         228|              1|         0.58|        4.5|  0.5|    0.5|      1.16|         0.0|     null|                  0.3|        6.96|           1|        1|                null|\n",
      "+--------+--------------------+---------------------+------------------+----------+------------+------------+---------------+-------------+-----------+-----+-------+----------+------------+---------+---------------------+------------+------------+---------+--------------------+\n",
      "only showing top 20 rows\n",
      "\n"
     ]
    }
   ],
   "source": [
    "df_green.show()"
   ]
  },
  {
   "cell_type": "code",
   "execution_count": 41,
   "id": "3cf058c6",
   "metadata": {},
   "outputs": [],
   "source": [
    "columns = ['VendorID', 'lpep_pickup_datetime', 'PULocationID', 'DOLocationID', 'trip_distance']\n",
    "\n",
    "duration_rdd = df_green \\\n",
    "    .select(columns) \\\n",
    "    .rdd"
   ]
  },
  {
   "cell_type": "code",
   "execution_count": 42,
   "id": "74d05fb6",
   "metadata": {},
   "outputs": [
    {
     "data": {
      "text/plain": [
       "[Row(VendorID=2, lpep_pickup_datetime=datetime.datetime(2019, 1, 27, 18, 7, 53), PULocationID=82, DOLocationID=160, trip_distance=2.91),\n",
       " Row(VendorID=2, lpep_pickup_datetime=datetime.datetime(2019, 1, 17, 7, 38, 57), PULocationID=41, DOLocationID=74, trip_distance=1.08),\n",
       " Row(VendorID=2, lpep_pickup_datetime=datetime.datetime(2019, 1, 30, 0, 40, 5), PULocationID=82, DOLocationID=129, trip_distance=1.24),\n",
       " Row(VendorID=2, lpep_pickup_datetime=datetime.datetime(2019, 1, 29, 18, 59, 48), PULocationID=130, DOLocationID=10, trip_distance=2.5),\n",
       " Row(VendorID=2, lpep_pickup_datetime=datetime.datetime(2019, 1, 11, 11, 56, 18), PULocationID=119, DOLocationID=226, trip_distance=8.72)]"
      ]
     },
     "execution_count": 42,
     "metadata": {},
     "output_type": "execute_result"
    }
   ],
   "source": [
    "duration_rdd.take(5)"
   ]
  },
  {
   "cell_type": "code",
   "execution_count": 43,
   "id": "e2f6e905",
   "metadata": {},
   "outputs": [],
   "source": [
    "import pandas as pd"
   ]
  },
  {
   "cell_type": "code",
   "execution_count": 44,
   "id": "69241b10",
   "metadata": {},
   "outputs": [],
   "source": [
    "rows = duration_rdd.take(10)"
   ]
  },
  {
   "cell_type": "code",
   "execution_count": 45,
   "id": "ee35a5c6",
   "metadata": {},
   "outputs": [
    {
     "data": {
      "text/plain": [
       "[Row(VendorID=2, lpep_pickup_datetime=datetime.datetime(2019, 1, 27, 18, 7, 53), PULocationID=82, DOLocationID=160, trip_distance=2.91),\n",
       " Row(VendorID=2, lpep_pickup_datetime=datetime.datetime(2019, 1, 17, 7, 38, 57), PULocationID=41, DOLocationID=74, trip_distance=1.08),\n",
       " Row(VendorID=2, lpep_pickup_datetime=datetime.datetime(2019, 1, 30, 0, 40, 5), PULocationID=82, DOLocationID=129, trip_distance=1.24),\n",
       " Row(VendorID=2, lpep_pickup_datetime=datetime.datetime(2019, 1, 29, 18, 59, 48), PULocationID=130, DOLocationID=10, trip_distance=2.5),\n",
       " Row(VendorID=2, lpep_pickup_datetime=datetime.datetime(2019, 1, 11, 11, 56, 18), PULocationID=119, DOLocationID=226, trip_distance=8.72),\n",
       " Row(VendorID=2, lpep_pickup_datetime=datetime.datetime(2019, 1, 22, 13, 0, 15), PULocationID=75, DOLocationID=151, trip_distance=1.58),\n",
       " Row(VendorID=2, lpep_pickup_datetime=datetime.datetime(2019, 1, 19, 23, 14, 34), PULocationID=41, DOLocationID=42, trip_distance=0.82),\n",
       " Row(VendorID=2, lpep_pickup_datetime=datetime.datetime(2019, 1, 22, 10, 48, 42), PULocationID=183, DOLocationID=81, trip_distance=3.26),\n",
       " Row(VendorID=2, lpep_pickup_datetime=datetime.datetime(2019, 1, 15, 16, 34, 38), PULocationID=72, DOLocationID=61, trip_distance=2.57),\n",
       " Row(VendorID=1, lpep_pickup_datetime=datetime.datetime(2019, 1, 31, 16, 24, 12), PULocationID=75, DOLocationID=236, trip_distance=0.8)]"
      ]
     },
     "execution_count": 45,
     "metadata": {},
     "output_type": "execute_result"
    }
   ],
   "source": [
    "rows"
   ]
  },
  {
   "cell_type": "code",
   "execution_count": 48,
   "id": "f53c30fa",
   "metadata": {},
   "outputs": [
    {
     "data": {
      "text/plain": [
       "['VendorID',\n",
       " 'lpep_pickup_datetime',\n",
       " 'PULocationID',\n",
       " 'DOLocationID',\n",
       " 'trip_distance']"
      ]
     },
     "execution_count": 48,
     "metadata": {},
     "output_type": "execute_result"
    }
   ],
   "source": [
    "columns"
   ]
  },
  {
   "cell_type": "code",
   "execution_count": 46,
   "id": "9de11ac6",
   "metadata": {},
   "outputs": [],
   "source": [
    "df = pd.DataFrame(rows, columns=columns)"
   ]
  },
  {
   "cell_type": "code",
   "execution_count": 47,
   "id": "7cfb1f15",
   "metadata": {},
   "outputs": [
    {
     "data": {
      "text/html": [
       "<div>\n",
       "<style scoped>\n",
       "    .dataframe tbody tr th:only-of-type {\n",
       "        vertical-align: middle;\n",
       "    }\n",
       "\n",
       "    .dataframe tbody tr th {\n",
       "        vertical-align: top;\n",
       "    }\n",
       "\n",
       "    .dataframe thead th {\n",
       "        text-align: right;\n",
       "    }\n",
       "</style>\n",
       "<table border=\"1\" class=\"dataframe\">\n",
       "  <thead>\n",
       "    <tr style=\"text-align: right;\">\n",
       "      <th></th>\n",
       "      <th>VendorID</th>\n",
       "      <th>lpep_pickup_datetime</th>\n",
       "      <th>PULocationID</th>\n",
       "      <th>DOLocationID</th>\n",
       "      <th>trip_distance</th>\n",
       "    </tr>\n",
       "  </thead>\n",
       "  <tbody>\n",
       "    <tr>\n",
       "      <th>0</th>\n",
       "      <td>2</td>\n",
       "      <td>2019-01-27 18:07:53</td>\n",
       "      <td>82</td>\n",
       "      <td>160</td>\n",
       "      <td>2.91</td>\n",
       "    </tr>\n",
       "    <tr>\n",
       "      <th>1</th>\n",
       "      <td>2</td>\n",
       "      <td>2019-01-17 07:38:57</td>\n",
       "      <td>41</td>\n",
       "      <td>74</td>\n",
       "      <td>1.08</td>\n",
       "    </tr>\n",
       "    <tr>\n",
       "      <th>2</th>\n",
       "      <td>2</td>\n",
       "      <td>2019-01-30 00:40:05</td>\n",
       "      <td>82</td>\n",
       "      <td>129</td>\n",
       "      <td>1.24</td>\n",
       "    </tr>\n",
       "    <tr>\n",
       "      <th>3</th>\n",
       "      <td>2</td>\n",
       "      <td>2019-01-29 18:59:48</td>\n",
       "      <td>130</td>\n",
       "      <td>10</td>\n",
       "      <td>2.50</td>\n",
       "    </tr>\n",
       "    <tr>\n",
       "      <th>4</th>\n",
       "      <td>2</td>\n",
       "      <td>2019-01-11 11:56:18</td>\n",
       "      <td>119</td>\n",
       "      <td>226</td>\n",
       "      <td>8.72</td>\n",
       "    </tr>\n",
       "    <tr>\n",
       "      <th>5</th>\n",
       "      <td>2</td>\n",
       "      <td>2019-01-22 13:00:15</td>\n",
       "      <td>75</td>\n",
       "      <td>151</td>\n",
       "      <td>1.58</td>\n",
       "    </tr>\n",
       "    <tr>\n",
       "      <th>6</th>\n",
       "      <td>2</td>\n",
       "      <td>2019-01-19 23:14:34</td>\n",
       "      <td>41</td>\n",
       "      <td>42</td>\n",
       "      <td>0.82</td>\n",
       "    </tr>\n",
       "    <tr>\n",
       "      <th>7</th>\n",
       "      <td>2</td>\n",
       "      <td>2019-01-22 10:48:42</td>\n",
       "      <td>183</td>\n",
       "      <td>81</td>\n",
       "      <td>3.26</td>\n",
       "    </tr>\n",
       "    <tr>\n",
       "      <th>8</th>\n",
       "      <td>2</td>\n",
       "      <td>2019-01-15 16:34:38</td>\n",
       "      <td>72</td>\n",
       "      <td>61</td>\n",
       "      <td>2.57</td>\n",
       "    </tr>\n",
       "    <tr>\n",
       "      <th>9</th>\n",
       "      <td>1</td>\n",
       "      <td>2019-01-31 16:24:12</td>\n",
       "      <td>75</td>\n",
       "      <td>236</td>\n",
       "      <td>0.80</td>\n",
       "    </tr>\n",
       "  </tbody>\n",
       "</table>\n",
       "</div>"
      ],
      "text/plain": [
       "   VendorID lpep_pickup_datetime  PULocationID  DOLocationID  trip_distance\n",
       "0         2  2019-01-27 18:07:53            82           160           2.91\n",
       "1         2  2019-01-17 07:38:57            41            74           1.08\n",
       "2         2  2019-01-30 00:40:05            82           129           1.24\n",
       "3         2  2019-01-29 18:59:48           130            10           2.50\n",
       "4         2  2019-01-11 11:56:18           119           226           8.72\n",
       "5         2  2019-01-22 13:00:15            75           151           1.58\n",
       "6         2  2019-01-19 23:14:34            41            42           0.82\n",
       "7         2  2019-01-22 10:48:42           183            81           3.26\n",
       "8         2  2019-01-15 16:34:38            72            61           2.57\n",
       "9         1  2019-01-31 16:24:12            75           236           0.80"
      ]
     },
     "execution_count": 47,
     "metadata": {},
     "output_type": "execute_result"
    }
   ],
   "source": [
    "df"
   ]
  },
  {
   "cell_type": "code",
   "execution_count": 49,
   "id": "83a4dcc2",
   "metadata": {},
   "outputs": [],
   "source": [
    "#model = ...\n",
    "\n",
    "def model_predict(df):\n",
    "#   y_pred = model.predict(df)\n",
    "    y_pred = df.trip_distance * 5\n",
    "    return y_pred"
   ]
  },
  {
   "cell_type": "code",
   "execution_count": 53,
   "id": "48919740",
   "metadata": {},
   "outputs": [],
   "source": [
    "df = pd.DataFrame(rows, columns=columns)"
   ]
  },
  {
   "cell_type": "code",
   "execution_count": 54,
   "id": "6d0dbf59",
   "metadata": {},
   "outputs": [
    {
     "data": {
      "text/plain": [
       "<map at 0x7f374cc705e0>"
      ]
     },
     "execution_count": 54,
     "metadata": {},
     "output_type": "execute_result"
    }
   ],
   "source": [
    "df.itertuples()"
   ]
  },
  {
   "cell_type": "code",
   "execution_count": 55,
   "id": "59457d13",
   "metadata": {},
   "outputs": [
    {
     "data": {
      "text/plain": [
       "[Pandas(Index=0, VendorID=2, lpep_pickup_datetime=Timestamp('2019-01-27 18:07:53'), PULocationID=82, DOLocationID=160, trip_distance=2.91),\n",
       " Pandas(Index=1, VendorID=2, lpep_pickup_datetime=Timestamp('2019-01-17 07:38:57'), PULocationID=41, DOLocationID=74, trip_distance=1.08),\n",
       " Pandas(Index=2, VendorID=2, lpep_pickup_datetime=Timestamp('2019-01-30 00:40:05'), PULocationID=82, DOLocationID=129, trip_distance=1.24),\n",
       " Pandas(Index=3, VendorID=2, lpep_pickup_datetime=Timestamp('2019-01-29 18:59:48'), PULocationID=130, DOLocationID=10, trip_distance=2.5),\n",
       " Pandas(Index=4, VendorID=2, lpep_pickup_datetime=Timestamp('2019-01-11 11:56:18'), PULocationID=119, DOLocationID=226, trip_distance=8.72),\n",
       " Pandas(Index=5, VendorID=2, lpep_pickup_datetime=Timestamp('2019-01-22 13:00:15'), PULocationID=75, DOLocationID=151, trip_distance=1.58),\n",
       " Pandas(Index=6, VendorID=2, lpep_pickup_datetime=Timestamp('2019-01-19 23:14:34'), PULocationID=41, DOLocationID=42, trip_distance=0.82),\n",
       " Pandas(Index=7, VendorID=2, lpep_pickup_datetime=Timestamp('2019-01-22 10:48:42'), PULocationID=183, DOLocationID=81, trip_distance=3.26),\n",
       " Pandas(Index=8, VendorID=2, lpep_pickup_datetime=Timestamp('2019-01-15 16:34:38'), PULocationID=72, DOLocationID=61, trip_distance=2.57),\n",
       " Pandas(Index=9, VendorID=1, lpep_pickup_datetime=Timestamp('2019-01-31 16:24:12'), PULocationID=75, DOLocationID=236, trip_distance=0.8)]"
      ]
     },
     "execution_count": 55,
     "metadata": {},
     "output_type": "execute_result"
    }
   ],
   "source": [
    "list(df.itertuples())"
   ]
  },
  {
   "cell_type": "code",
   "execution_count": 56,
   "id": "2200a0f9",
   "metadata": {},
   "outputs": [],
   "source": [
    "def infinite_seq():\n",
    "    i = 0\n",
    "    while True:\n",
    "        yield i\n",
    "        i = i + 1"
   ]
  },
  {
   "cell_type": "code",
   "execution_count": 57,
   "id": "094d2a06",
   "metadata": {},
   "outputs": [],
   "source": [
    "seq = infinite_seq()"
   ]
  },
  {
   "cell_type": "code",
   "execution_count": 58,
   "id": "857164da",
   "metadata": {},
   "outputs": [
    {
     "data": {
      "text/plain": [
       "0"
      ]
     },
     "execution_count": 58,
     "metadata": {},
     "output_type": "execute_result"
    }
   ],
   "source": [
    "next(seq)"
   ]
  },
  {
   "cell_type": "code",
   "execution_count": 59,
   "id": "7c392721",
   "metadata": {},
   "outputs": [
    {
     "data": {
      "text/plain": [
       "1"
      ]
     },
     "execution_count": 59,
     "metadata": {},
     "output_type": "execute_result"
    }
   ],
   "source": [
    "next(seq)"
   ]
  },
  {
   "cell_type": "code",
   "execution_count": 60,
   "id": "22802f72",
   "metadata": {},
   "outputs": [
    {
     "data": {
      "text/plain": [
       "2"
      ]
     },
     "execution_count": 60,
     "metadata": {},
     "output_type": "execute_result"
    }
   ],
   "source": [
    "next(seq)"
   ]
  },
  {
   "cell_type": "code",
   "execution_count": 61,
   "id": "8ee1c995",
   "metadata": {},
   "outputs": [
    {
     "name": "stdout",
     "output_type": "stream",
     "text": [
      "3\n",
      "4\n",
      "5\n",
      "6\n",
      "7\n",
      "8\n"
     ]
    }
   ],
   "source": [
    "for i in seq:\n",
    "    print(i)\n",
    "    if i >=8:\n",
    "        break"
   ]
  },
  {
   "cell_type": "code",
   "execution_count": 62,
   "id": "f0d11e9a",
   "metadata": {},
   "outputs": [],
   "source": [
    "def infinite_seq():\n",
    "    i = 0\n",
    "    while True:\n",
    "        yield i\n",
    "        i = i + 1\n",
    "        if i > 15:\n",
    "            break"
   ]
  },
  {
   "cell_type": "code",
   "execution_count": 63,
   "id": "1c9404e0",
   "metadata": {},
   "outputs": [],
   "source": [
    "seq = infinite_seq()"
   ]
  },
  {
   "cell_type": "code",
   "execution_count": 64,
   "id": "c917d2a0",
   "metadata": {},
   "outputs": [
    {
     "data": {
      "text/plain": [
       "[0, 1, 2, 3, 4, 5, 6, 7, 8, 9, 10, 11, 12, 13, 14, 15]"
      ]
     },
     "execution_count": 64,
     "metadata": {},
     "output_type": "execute_result"
    }
   ],
   "source": [
    "list(seq)"
   ]
  },
  {
   "cell_type": "code",
   "execution_count": 65,
   "id": "deb44ecb",
   "metadata": {},
   "outputs": [],
   "source": [
    "def apply_model_in_batch(rows):\n",
    "    df = pd.DataFrame(rows, columns=columns)\n",
    "    predictions = model_predict(df)\n",
    "    df['predicted_duration'] = predictions\n",
    "\n",
    "    for row in df.itertuples():\n",
    "        yield row"
   ]
  },
  {
   "cell_type": "code",
   "execution_count": 68,
   "id": "e9158c13",
   "metadata": {},
   "outputs": [
    {
     "name": "stderr",
     "output_type": "stream",
     "text": [
      "[Stage 34:>                                                         (0 + 1) / 1]\r"
     ]
    },
    {
     "name": "stdout",
     "output_type": "stream",
     "text": [
      "+-----+--------+--------------------+------------+------------+-------------+------------------+\n",
      "|Index|VendorID|lpep_pickup_datetime|PULocationID|DOLocationID|trip_distance|predicted_duration|\n",
      "+-----+--------+--------------------+------------+------------+-------------+------------------+\n",
      "|    0|       2|                  {}|          82|         160|         2.91|             14.55|\n",
      "|    1|       2|                  {}|          41|          74|         1.08|               5.4|\n",
      "|    2|       2|                  {}|          82|         129|         1.24|               6.2|\n",
      "|    3|       2|                  {}|         130|          10|          2.5|              12.5|\n",
      "|    4|       2|                  {}|         119|         226|         8.72|              43.6|\n",
      "|    5|       2|                  {}|          75|         151|         1.58|               7.9|\n",
      "|    6|       2|                  {}|          41|          42|         0.82|               4.1|\n",
      "|    7|       2|                  {}|         183|          81|         3.26|16.299999999999997|\n",
      "|    8|       2|                  {}|          72|          61|         2.57|             12.85|\n",
      "|    9|       1|                  {}|          75|         236|          0.8|               4.0|\n",
      "|   10|       2|                  {}|         260|           7|         2.02|              10.1|\n",
      "|   11|       2|                  {}|         145|         196|          9.0|              45.0|\n",
      "|   12|       2|                  {}|          74|         236|         1.74|               8.7|\n",
      "|   13|       2|                  {}|          80|         157|         1.94|               9.7|\n",
      "|   14|       2|                  {}|         129|         145|         3.49|17.450000000000003|\n",
      "|   15|       2|                  {}|           7|         226|         0.89|              4.45|\n",
      "|   16|       2|                  {}|         244|         238|         4.78|23.900000000000002|\n",
      "|   17|       2|                  {}|         130|          10|         2.69|             13.45|\n",
      "|   18|       2|                  {}|         174|         247|         3.88|              19.4|\n",
      "|   19|       2|                  {}|         181|         228|         0.58|               2.9|\n",
      "+-----+--------+--------------------+------------+------------+-------------+------------------+\n",
      "only showing top 20 rows\n",
      "\n"
     ]
    },
    {
     "name": "stderr",
     "output_type": "stream",
     "text": [
      "\r",
      "                                                                                \r"
     ]
    }
   ],
   "source": [
    "df_predicts = duration_rdd \\\n",
    "    .mapPartitions(apply_model_in_batch)\\\n",
    "    .toDF() \\\n",
    "    .show()"
   ]
  },
  {
   "cell_type": "code",
   "execution_count": 69,
   "id": "3f6172a2",
   "metadata": {},
   "outputs": [
    {
     "name": "stderr",
     "output_type": "stream",
     "text": [
      "                                                                                \r"
     ]
    }
   ],
   "source": [
    "df_predicts = duration_rdd \\\n",
    "    .mapPartitions(apply_model_in_batch)\\\n",
    "    .toDF() \\\n",
    "    .drop('Index')"
   ]
  },
  {
   "cell_type": "code",
   "execution_count": 70,
   "id": "f137c69d",
   "metadata": {},
   "outputs": [
    {
     "name": "stderr",
     "output_type": "stream",
     "text": [
      "\r",
      "[Stage 36:>                                                         (0 + 1) / 1]\r"
     ]
    },
    {
     "name": "stdout",
     "output_type": "stream",
     "text": [
      "+--------+--------------------+------------+------------+-------------+------------------+\n",
      "|VendorID|lpep_pickup_datetime|PULocationID|DOLocationID|trip_distance|predicted_duration|\n",
      "+--------+--------------------+------------+------------+-------------+------------------+\n",
      "|       2|                  {}|          82|         160|         2.91|             14.55|\n",
      "|       2|                  {}|          41|          74|         1.08|               5.4|\n",
      "|       2|                  {}|          82|         129|         1.24|               6.2|\n",
      "|       2|                  {}|         130|          10|          2.5|              12.5|\n",
      "|       2|                  {}|         119|         226|         8.72|              43.6|\n",
      "|       2|                  {}|          75|         151|         1.58|               7.9|\n",
      "|       2|                  {}|          41|          42|         0.82|               4.1|\n",
      "|       2|                  {}|         183|          81|         3.26|16.299999999999997|\n",
      "|       2|                  {}|          72|          61|         2.57|             12.85|\n",
      "|       1|                  {}|          75|         236|          0.8|               4.0|\n",
      "|       2|                  {}|         260|           7|         2.02|              10.1|\n",
      "|       2|                  {}|         145|         196|          9.0|              45.0|\n",
      "|       2|                  {}|          74|         236|         1.74|               8.7|\n",
      "|       2|                  {}|          80|         157|         1.94|               9.7|\n",
      "|       2|                  {}|         129|         145|         3.49|17.450000000000003|\n",
      "|       2|                  {}|           7|         226|         0.89|              4.45|\n",
      "|       2|                  {}|         244|         238|         4.78|23.900000000000002|\n",
      "|       2|                  {}|         130|          10|         2.69|             13.45|\n",
      "|       2|                  {}|         174|         247|         3.88|              19.4|\n",
      "|       2|                  {}|         181|         228|         0.58|               2.9|\n",
      "+--------+--------------------+------------+------------+-------------+------------------+\n",
      "only showing top 20 rows\n",
      "\n"
     ]
    },
    {
     "name": "stderr",
     "output_type": "stream",
     "text": [
      "\r",
      "                                                                                \r"
     ]
    }
   ],
   "source": [
    "df_predicts.show()"
   ]
  },
  {
   "cell_type": "code",
   "execution_count": 71,
   "id": "897ef3ca",
   "metadata": {},
   "outputs": [
    {
     "name": "stderr",
     "output_type": "stream",
     "text": [
      "\r",
      "[Stage 37:>                                                         (0 + 1) / 1]\r"
     ]
    },
    {
     "name": "stdout",
     "output_type": "stream",
     "text": [
      "+------------------+\n",
      "|predicted_duration|\n",
      "+------------------+\n",
      "|             14.55|\n",
      "|               5.4|\n",
      "|               6.2|\n",
      "|              12.5|\n",
      "|              43.6|\n",
      "|               7.9|\n",
      "|               4.1|\n",
      "|16.299999999999997|\n",
      "|             12.85|\n",
      "|               4.0|\n",
      "|              10.1|\n",
      "|              45.0|\n",
      "|               8.7|\n",
      "|               9.7|\n",
      "|17.450000000000003|\n",
      "|              4.45|\n",
      "|23.900000000000002|\n",
      "|             13.45|\n",
      "|              19.4|\n",
      "|               2.9|\n",
      "+------------------+\n",
      "only showing top 20 rows\n",
      "\n"
     ]
    },
    {
     "name": "stderr",
     "output_type": "stream",
     "text": [
      "\r",
      "                                                                                \r"
     ]
    }
   ],
   "source": [
    "df_predicts.select('predicted_duration').show()"
   ]
  },
  {
   "cell_type": "code",
   "execution_count": 72,
   "id": "3e1660ca",
   "metadata": {},
   "outputs": [],
   "source": [
    "spark.stop()"
   ]
  },
  {
   "cell_type": "code",
   "execution_count": null,
   "id": "3c5cc356",
   "metadata": {},
   "outputs": [],
   "source": []
  }
 ],
 "metadata": {
  "kernelspec": {
   "display_name": "Python 3 (ipykernel)",
   "language": "python",
   "name": "python3"
  },
  "language_info": {
   "codemirror_mode": {
    "name": "ipython",
    "version": 3
   },
   "file_extension": ".py",
   "mimetype": "text/x-python",
   "name": "python",
   "nbconvert_exporter": "python",
   "pygments_lexer": "ipython3",
   "version": "3.11.5"
  }
 },
 "nbformat": 4,
 "nbformat_minor": 5
}
